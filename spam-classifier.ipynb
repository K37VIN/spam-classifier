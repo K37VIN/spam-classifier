{
 "cells": [
  {
   "cell_type": "code",
   "execution_count": null,
   "id": "45f3fc33-0a26-406f-9359-d8c62397b5fd",
   "metadata": {},
   "outputs": [],
   "source": [
    "import pandas as pd\n",
    "import numpy as np"
   ]
  },
  {
   "cell_type": "code",
   "execution_count": null,
   "id": "de5d9c53-cbd7-4491-b3bb-da9ee6e836ab",
   "metadata": {},
   "outputs": [],
   "source": [
    "df = pd.read_csv('spam.csv', encoding='ISO-8859-1')"
   ]
  },
  {
   "cell_type": "code",
   "execution_count": null,
   "id": "a56d6def-1923-4c80-9686-c8801f7aaaf9",
   "metadata": {},
   "outputs": [],
   "source": [
    "df"
   ]
  },
  {
   "cell_type": "code",
   "execution_count": null,
   "id": "2feca89a-1fb2-4b57-822c-f88075af232f",
   "metadata": {},
   "outputs": [],
   "source": [
    "df.drop(columns=['Unnamed: 2','Unnamed: 3','Unnamed: 4'],inplace=True)"
   ]
  },
  {
   "cell_type": "code",
   "execution_count": null,
   "id": "72502cc3-d427-4bde-9a66-31bc670fbdf2",
   "metadata": {},
   "outputs": [],
   "source": [
    "df"
   ]
  },
  {
   "cell_type": "code",
   "execution_count": null,
   "id": "cbdd7fc2-b273-4cad-9e3c-d1883c1d9acd",
   "metadata": {},
   "outputs": [],
   "source": [
    "df.rename(columns={\"v1\":\"target\",\"v2\":\"message\"},inplace=True)"
   ]
  },
  {
   "cell_type": "code",
   "execution_count": null,
   "id": "da7f6b5f-185d-4038-86ed-80e530eb8fb0",
   "metadata": {},
   "outputs": [],
   "source": [
    "df"
   ]
  },
  {
   "cell_type": "code",
   "execution_count": null,
   "id": "f6be3ddd-5d2a-4347-b192-fa07eb7e1d57",
   "metadata": {},
   "outputs": [],
   "source": [
    "from sklearn.preprocessing import LabelEncoder\n",
    "encoder=LabelEncoder()\n",
    "df['target']=encoder.fit_transform(df['target'])\n"
   ]
  },
  {
   "cell_type": "code",
   "execution_count": null,
   "id": "bc9983fb-caa9-4cda-a5fe-c3ed9080d9f0",
   "metadata": {},
   "outputs": [],
   "source": [
    "df"
   ]
  },
  {
   "cell_type": "code",
   "execution_count": null,
   "id": "ecae442f-52c4-4b42-8a38-db6e2bf72ee7",
   "metadata": {},
   "outputs": [],
   "source": [
    "df.duplicated().sum()"
   ]
  },
  {
   "cell_type": "code",
   "execution_count": null,
   "id": "b8a29109-0344-45f5-8a71-275fd3fff2f2",
   "metadata": {},
   "outputs": [],
   "source": [
    "df.drop_duplicates()"
   ]
  },
  {
   "cell_type": "code",
   "execution_count": null,
   "id": "202aacfb-59aa-4568-ba26-61c9c9cde499",
   "metadata": {},
   "outputs": [],
   "source": [
    "df.duplicated().sum()"
   ]
  },
  {
   "cell_type": "code",
   "execution_count": null,
   "id": "81c89365-f870-4259-ab64-2654b1eb2ded",
   "metadata": {},
   "outputs": [],
   "source": [
    "df.drop_duplicates(inplace=True)"
   ]
  },
  {
   "cell_type": "code",
   "execution_count": null,
   "id": "ab1df81f-9d43-445c-a650-3397ddb74a32",
   "metadata": {},
   "outputs": [],
   "source": [
    "df"
   ]
  },
  {
   "cell_type": "code",
   "execution_count": null,
   "id": "9924a02a-abeb-44bb-ba11-f05e6b5a0b15",
   "metadata": {},
   "outputs": [],
   "source": [
    "df.duplicated().sum()"
   ]
  },
  {
   "cell_type": "code",
   "execution_count": null,
   "id": "e31d8a07-3b50-41bc-a939-c3cef518aae2",
   "metadata": {},
   "outputs": [],
   "source": [
    "df.isnull().sum()"
   ]
  },
  {
   "cell_type": "code",
   "execution_count": null,
   "id": "c1ed3e45-510b-4d2e-96bf-c7dcff1ec66c",
   "metadata": {},
   "outputs": [],
   "source": [
    "df['message'][2]"
   ]
  },
  {
   "cell_type": "code",
   "execution_count": null,
   "id": "02765f20-3b66-4dc0-816e-1a2e7e6bb38a",
   "metadata": {},
   "outputs": [],
   "source": [
    "import re\n",
    "import string\n",
    "import nltk\n",
    "from nltk.corpus import stopwords\n",
    "\n",
    "nltk.download(\"punkt\")\n",
    "nltk.download(\"stopwords\")\n",
    "\n",
    "\n",
    "chat_words_map = {\n",
    "    'lol': 'laughing out loud', 'lmao': 'laughing my ass off', 'rofl': 'rolling on the floor laughing',\n",
    "    'roflmao': 'rolling on the floor laughing my ass off', 'brb': 'be right back', 'ttyl': 'talk to you later',\n",
    "    'idk': 'i do not know', 'omg': 'oh my god', 'btw': 'by the way', 'smh': 'shaking my head',\n",
    "    'imo': 'in my opinion', 'imho': 'in my humble opinion', 'fyi': 'for your information',\n",
    "    'afk': 'away from keyboard', 'asap': 'as soon as possible', 'bff': 'best friends forever',\n",
    "    'g2g': 'got to go', 'gtg': 'got to go', 'np': 'no problem', 'nvm': 'never mind', 'wth': 'what the hell',\n",
    "    'jk': 'just kidding', 'lmk': 'let me know', 'ikr': 'i know right', 'yolo': 'you only live once',\n",
    "    'omfg': 'oh my freaking god', 'ty': 'thank you', 'thx': 'thanks', 'tysm': 'thank you so much',\n",
    "    'plz': 'please', 'pls': 'please', 'u': 'you', 'ur': 'your', 'cya': 'see you',\n",
    "    'xoxo': 'hugs and kisses', 'wyd': 'what are you doing', 'hbu': 'how about you',\n",
    "    'bday': 'birthday', 'hbd': 'happy birthday', 'sup': 'what is up', 'cuz': 'because', 'coz': 'because',\n",
    "    'dm': 'direct message', 'pm': 'private message', 'ftw': 'for the win', 'gr8': 'great',\n",
    "    'luv': 'love', 'msg': 'message', 'txt': 'text', 'k': 'okay', 'okie': 'okay',\n",
    "    'ya': 'yes', 'nah': 'no', 'yo': 'hey', 'bae': 'baby', 'fam': 'family'\n",
    "}\n",
    "\n",
    "stop_words = set(stopwords.words(\"english\"))\n",
    "\n",
    "\n",
    "def replace_chat_words(text):\n",
    "    return ' '.join([chat_words_map.get(word.lower(), word) for word in text.split()])\n",
    "\n",
    "\n",
    "def remove_tags(text):\n",
    "    return re.sub(r'<.*?>', '', text)\n",
    "\n",
    "\n",
    "def remove_punctuation(text):\n",
    "    return text.translate(str.maketrans('', '', string.punctuation))\n",
    "\n",
    "\n",
    "def remove_stopwords_and_digits(text):\n",
    "    text = re.sub(r'\\d+', '', text)\n",
    "    return ' '.join([word for word in text.split() if word.lower() not in stop_words])\n",
    "\n",
    "\n",
    "def preprocess_text(text):\n",
    "    text = text.lower()\n",
    "    text = replace_chat_words(text)\n",
    "    text = remove_tags(text)\n",
    "    text = remove_punctuation(text)\n",
    "    text = remove_stopwords_and_digits(text)\n",
    "    return text\n"
   ]
  },
  {
   "cell_type": "code",
   "execution_count": null,
   "id": "32d71d37-8054-4030-8d9d-8213dad74452",
   "metadata": {},
   "outputs": [],
   "source": [
    "from sklearn.feature_extraction.text import TfidfVectorizer\n",
    "\n",
    "tf=TfidfVectorizer()\n",
    "X= tf.fit_transform(df['message'])\n",
    "y=df['target']"
   ]
  },
  {
   "cell_type": "code",
   "execution_count": null,
   "id": "8245d496-d77d-4623-aabc-667639947ca2",
   "metadata": {},
   "outputs": [],
   "source": [
    "from sklearn.model_selection import train_test_split\n",
    "\n",
    "X_train, X_test, y_train, y_test = train_test_split(\n",
    "    X, y, test_size=0.2, random_state=42)"
   ]
  },
  {
   "cell_type": "code",
   "execution_count": null,
   "id": "cb6fb27c-64b4-4e82-8ed5-45e2eee523b4",
   "metadata": {},
   "outputs": [],
   "source": [
    "from sklearn.naive_bayes import MultinomialNB\n",
    "from sklearn.ensemble import RandomForestClassifier\n",
    "from sklearn.metrics import classification_report,accuracy_score\n",
    "\n",
    "model1=MultinomialNB()\n",
    "model2=RandomForestClassifier()\n",
    "model1.fit(X_train,y_train)\n",
    "model2.fit(X_train,y_train)\n",
    "\n",
    "y_pred1=model1.predict(X_test)\n",
    "y_pred2=model2.predict(X_test)\n",
    "\n",
    "\n",
    "print(\"Accuracy of model 1:\",accuracy_score(y_test,y_pred1))\n",
    "print(\"Accuracy of model 2:\",accuracy_score(y_test,y_pred2))"
   ]
  },
  {
   "cell_type": "code",
   "execution_count": null,
   "id": "1a0f86a7-f0a0-4f82-91f8-6cacb1b5fdc0",
   "metadata": {},
   "outputs": [],
   "source": [
    "sample = [\"Claim your free $500 Amazon gift card now! Only a few left! Text WIN to 90009!\"]\n",
    "sample_cleaned = [preprocess_text(msg) for msg in sample]\n",
    "sample_vect = tf.transform(sample_cleaned)\n",
    "result=model2.predict(sample_vect)\n",
    "\n",
    "if (result == 1):\n",
    "    print(\"Spam\")\n",
    "else:\n",
    "    print(\"Not Spam\")"
   ]
  },
  {
   "cell_type": "code",
   "execution_count": null,
   "id": "db862082-8f09-4f37-8f13-aef67db6bbe3",
   "metadata": {},
   "outputs": [],
   "source": [
    "import joblib\n",
    "joblib.dump(model2,'spam_model.pkl')\n",
    "joblib.dump(tf,'vectorizer.pkl')"
   ]
  },
  {
   "cell_type": "code",
   "execution_count": null,
   "id": "1aa2c196-b07b-4288-aae5-5c65378573d7",
   "metadata": {},
   "outputs": [],
   "source": []
  }
 ],
 "metadata": {
  "kernelspec": {
   "display_name": "Python 3",
   "language": "python",
   "name": "python3"
  },
  "language_info": {
   "codemirror_mode": {
    "name": "ipython",
    "version": 3
   },
   "file_extension": ".py",
   "mimetype": "text/x-python",
   "name": "python",
   "nbconvert_exporter": "python",
   "pygments_lexer": "ipython3",
   "version": "3.11.4"
  }
 },
 "nbformat": 4,
 "nbformat_minor": 5
}
